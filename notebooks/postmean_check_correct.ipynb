{
 "cells": [
  {
   "cell_type": "code",
   "execution_count": 35,
   "metadata": {},
   "outputs": [],
   "source": [
    "import numpy as np\n",
    "import seaborn as sns\n",
    "import pandas as pd\n",
    "import matplotlib.pyplot as plt"
   ]
  },
  {
   "cell_type": "markdown",
   "metadata": {},
   "source": [
    "# Model\n",
    "\n",
    "$$\\theta_i \\sim N(0,1)$$\n",
    "$$x_i \\sim \\theta_i + N(0,1)$$\n",
    "$$z_{ij} \\sim \\theta_i + N(0,1)$$\n",
    "$$y_{ij} = \\alpha\\theta_i + \\delta z_{ij} + N(0,0.5)$$\n"
   ]
  },
  {
   "cell_type": "code",
   "execution_count": 36,
   "metadata": {},
   "outputs": [],
   "source": [
    "ALPHA = 2\n",
    "DELTA = 2\n",
    "RNG = np.random.default_rng(32742895)"
   ]
  },
  {
   "cell_type": "code",
   "execution_count": 37,
   "metadata": {},
   "outputs": [],
   "source": [
    "def ols(X,y):\n",
    "    if len(X.shape) == 1:\n",
    "        return (X@y) / (X@X)\n",
    "    else:\n",
    "        return np.linalg.inv(X.T @ X) @ X.T @ y\n",
    "\n",
    "def demean(y, n, m):\n",
    "    y_r = y.reshape((n,m))\n",
    "    return (y_r - y_r.mean(axis=1, keepdims=True)).flatten()"
   ]
  },
  {
   "cell_type": "code",
   "execution_count": 38,
   "metadata": {},
   "outputs": [],
   "source": [
    "class DataGenerator:\n",
    "    def __init__(self, n, m):\n",
    "        #直接讓他們都是一維\n",
    "        theta = RNG.normal(size=n)\n",
    "        theta = np.repeat(theta, m)\n",
    "\n",
    "        x = theta + RNG.normal(size=n*m)\n",
    "        z = theta + RNG.normal(size=n*m)\n",
    "        y = ALPHA * theta + DELTA * z + RNG.normal(size=n*m, scale=0.5)\n",
    "        self.theta = theta\n",
    "\n",
    "\n",
    "        self.x = x\n",
    "        self.z = z\n",
    "        self.y = y\n",
    "        self.theta_post_mean = self.x / 2\n",
    "\n",
    "        self.n = n\n",
    "        self.m = m\n",
    "\n",
    "\n",
    "    def direct_ols(self):\n",
    "        X = np.stack([self.theta_post_mean, self.z], axis=-1)\n",
    "        return ols(X, self.y)[0]\n",
    "\n",
    "    def demean_ols(self):\n",
    "        y_demean_flat = demean(self.y, self.n, self.m)\n",
    "        z_demean_flat = demean(self.z, self.n, self.m)\n",
    "\n",
    "        delta_hat = ols(z_demean_flat, y_demean_flat)\n",
    "\n",
    "        y_minus_z = self.y - delta_hat * self.z\n",
    "        alpha_hat = ols(self.theta_post_mean, y_minus_z)\n",
    "        return alpha_hat"
   ]
  },
  {
   "cell_type": "code",
   "execution_count": null,
   "metadata": {},
   "outputs": [],
   "source": [
    "def repeat(n,m,B):\n",
    "    records = []\n",
    "    for b in range(B):\n",
    "        data = {}\n",
    "        dg = DataGenerator(n,m)\n",
    "        data['direct'] = dg.direct_ols()\n",
    "        data['demean'] = dg.demean_ols()\n",
    "        records.append(data)\n",
    "    repeat_dict = {'df': pd.DataFrame(records),\n",
    "                   'n': n, 'm': m, 'B': B}\n",
    "    return repeat_dict\n",
    "\n",
    "\n",
    "def plot_kde(repeat_dict, fname):\n",
    "    fig, axs = plt.subplots(1,2, figsize=(12,4))\n",
    "\n",
    "    fig.suptitle(f'n={repeat_dict['n']}, m={repeat_dict['m']}, B={repeat_dict['B']}')\n",
    "    df = repeat_dict['df']\n",
    "    for i in range(2):\n",
    "        sns.kdeplot(df[df.columns[i]], ax=axs[i])\n",
    "        axs[i].axvline(ALPHA, color='r')\n",
    "        \n",
    "    fig.savefig(fname)\n"
   ]
  }
 ],
 "metadata": {
  "kernelspec": {
   "display_name": "env",
   "language": "python",
   "name": "python3"
  },
  "language_info": {
   "codemirror_mode": {
    "name": "ipython",
    "version": 3
   },
   "file_extension": ".py",
   "mimetype": "text/x-python",
   "name": "python",
   "nbconvert_exporter": "python",
   "pygments_lexer": "ipython3",
   "version": "3.12.3"
  }
 },
 "nbformat": 4,
 "nbformat_minor": 2
}
