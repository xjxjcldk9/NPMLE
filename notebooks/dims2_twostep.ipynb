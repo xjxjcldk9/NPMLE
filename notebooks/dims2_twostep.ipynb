{
 "cells": [
  {
   "cell_type": "code",
   "execution_count": 2,
   "metadata": {},
   "outputs": [],
   "source": [
    "import matlab.engine\n",
    "import matplotlib.pyplot as plt\n",
    "import numpy as np\n",
    "import pandas as pd \n",
    "import seaborn as sns\n",
    "from pathlib import Path"
   ]
  },
  {
   "cell_type": "code",
   "execution_count": 3,
   "metadata": {},
   "outputs": [],
   "source": [
    "eng = matlab.engine.start_matlab()\n",
    "s = eng.genpath('/home/r10323001/Dual-ALM-for-NPMLE')\n",
    "eng.addpath(s, nargout=0)\n",
    "eng.addpath('.', nargout=0)"
   ]
  },
  {
   "cell_type": "code",
   "execution_count": 4,
   "metadata": {},
   "outputs": [],
   "source": [
    "N = [3000, 6000, 10000]\n",
    "B = 100\n",
    "m = 20\n",
    "priors = ['uniform', 'normal', 'beta']"
   ]
  },
  {
   "cell_type": "code",
   "execution_count": 5,
   "metadata": {},
   "outputs": [],
   "source": [
    "x_cov =  np.array([[0.2, -0.1], [-0.1, 0.2]])\n",
    "beta = np.array([1.0, 2.0, 1.5, 0.7])\n",
    "delta = 2.2\n",
    "\n",
    "x_cov_m = matlab.double(x_cov)\n",
    "beta_m = matlab.double(beta)\n",
    "delta_m = matlab.double(delta)"
   ]
  },
  {
   "cell_type": "code",
   "execution_count": 6,
   "metadata": {},
   "outputs": [],
   "source": [
    "def consistent_plot(b_est_df, title=None):\n",
    "    fig, axs = plt.subplots(1,4,figsize=(18,4))\n",
    "    \n",
    "    for i in range(4):\n",
    "        axs[i].set_title(f'beta_{i}')\n",
    "        axs[i].axvline(x=beta[i], color='r')\n",
    "        sns.kdeplot(data=b_est_df, x=i, hue='n', ax=axs[i])\n",
    "        \n",
    "        \n",
    "    if title:\n",
    "        fig.suptitle(title)\n",
    "    return fig"
   ]
  },
  {
   "cell_type": "code",
   "execution_count": 7,
   "metadata": {},
   "outputs": [],
   "source": [
    "def assess_prior_plot(grid, weight, theta):\n",
    "    fig, axs = plt.subplots(1,2,figsize=(14,6))\n",
    "    \n",
    "    df = pd.DataFrame({\n",
    "            'grid_0': grid[:,0],\n",
    "            'grid_1': grid[:,1],\n",
    "            'weight': weight\n",
    "    })\n",
    "    \n",
    "    for i in range(2):            \n",
    "            \n",
    "            axs[i].ecdf(theta[:,i], label='True')\n",
    "            \n",
    "            \n",
    "            df_sort = df.sort_values(f'grid_{i}')\n",
    "            axs[i].plot(df_sort[f'grid_{i}'], df_sort['weight'].cumsum(), label='NPMLE')\n",
    "            \n",
    "\n",
    "            axs[i].set_title(f'theta {i}')\n",
    "            axs[i].legend()\n",
    "            axs[i].set_xlim(df_sort[f'grid_{i}'].min(), df_sort[f'grid_{i}'].max())\n",
    "            \n",
    "    return fig\n",
    "        \n",
    "            "
   ]
  },
  {
   "cell_type": "code",
   "execution_count": 8,
   "metadata": {},
   "outputs": [],
   "source": [
    "def assess_prior_table(grid, weight, theta):\n",
    "    \n",
    "    estimated_theta = pd.Series(\n",
    "        {'theta_1': grid[:,0] @ weight,\n",
    "        'theta_2': grid[:,1] @ weight,\n",
    "        'theta_1^2': grid[:,0]**2 @ weight,\n",
    "        'theta_2^2': grid[:,1]**2 @ weight,\n",
    "        'theta_1*theta_2': (grid[:,0]*grid[:,1]) @ weight,\n",
    "        }\n",
    "    )\n",
    "\n",
    "    true_theta = pd.Series(\n",
    "        {'theta_1': theta[:,0].mean(),\n",
    "        'theta_2': theta[:,1].mean(),\n",
    "        'theta_1^2': (theta[:,0]**2).mean(),\n",
    "        'theta_2^2': (theta[:,1]**2).mean(),\n",
    "        'theta_1*theta_2': (theta[:,0] * theta[:,1]).mean()\n",
    "        }\n",
    "    )\n",
    "\n",
    "    return pd.DataFrame([estimated_theta, true_theta], index=['estimated', 'true'])\n",
    "        "
   ]
  },
  {
   "cell_type": "code",
   "execution_count": 9,
   "metadata": {},
   "outputs": [],
   "source": [
    "def run_exp(prior, run_anyway=False):\n",
    "    b_est_list = []\n",
    "    \n",
    "    title = f'{prior}'\n",
    "    p = Path('dim2_combinations') / title\n",
    "    \n",
    "    if (not p.is_dir()) or (run_anyway):\n",
    "        \n",
    "        p.mkdir(exist_ok=True)\n",
    "        \n",
    "        for n in N:\n",
    "            for b in range(B):\n",
    "                b_est, grid, weight, theta, y, pm = eng.dim2_twostep(n, m, prior, x_cov_m, delta_m, beta_m, nargout=6)\n",
    "                b_est_series = pd.Series(np.array(b_est).reshape(-1))\n",
    "                b_est_series['n'] = n \n",
    "                b_est_list.append(b_est_series)\n",
    "        b_est_df = pd.DataFrame(b_est_list)\n",
    "        \n",
    "        # store mean\n",
    "        \n",
    "        for i in range(len(beta)):\n",
    "            b_est_df[f'{i}_MSE'] = (b_est_df[i] - beta[i])**2\n",
    "        \n",
    "        b_est_df.groupby('n').mean().to_csv( p / 'beta_pm.csv')\n",
    "        \n",
    "        \n",
    "        # store fig\n",
    "        \n",
    "        consistent_plt = consistent_plot(b_est_df, title)\n",
    "        consistent_plt.savefig(p /'consistent.png' )\n",
    "        \n",
    "        grid = np.array(grid)\n",
    "        weight = np.array(weight).reshape(-1)\n",
    "        theta = np.array(theta)\n",
    "        \n",
    "        \n",
    "        prior_plt = assess_prior_plot(grid, weight, theta)\n",
    "        prior_plt.savefig(p / 'prior_compare.png' )\n",
    "        \n",
    "        prior_table = assess_prior_table(grid, weight, theta)\n",
    "        prior_table.to_csv(p / 'prior.csv')\n",
    "        \n",
    "\n",
    "        "
   ]
  },
  {
   "cell_type": "code",
   "execution_count": null,
   "metadata": {},
   "outputs": [],
   "source": [
    "for prior in priors:\n",
    "    run_exp(prior, True)"
   ]
  }
 ],
 "metadata": {
  "kernelspec": {
   "display_name": "Python 3",
   "language": "python",
   "name": "python3"
  },
  "language_info": {
   "codemirror_mode": {
    "name": "ipython",
    "version": 3
   },
   "file_extension": ".py",
   "mimetype": "text/x-python",
   "name": "python",
   "nbconvert_exporter": "python",
   "pygments_lexer": "ipython3",
   "version": "3.9.19"
  }
 },
 "nbformat": 4,
 "nbformat_minor": 2
}
