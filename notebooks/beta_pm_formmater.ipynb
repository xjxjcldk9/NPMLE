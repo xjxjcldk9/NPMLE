{
 "cells": [
  {
   "cell_type": "code",
   "execution_count": 1,
   "metadata": {},
   "outputs": [],
   "source": [
    "import pandas as pd "
   ]
  },
  {
   "cell_type": "code",
   "execution_count": 2,
   "metadata": {},
   "outputs": [],
   "source": [
    "betas = [1, 2, 1.5, 0.7]\n",
    "cases = ['uniform', 'normal', 'beta']"
   ]
  },
  {
   "cell_type": "code",
   "execution_count": 3,
   "metadata": {},
   "outputs": [],
   "source": [
    "data = []\n",
    "\n",
    "for case in cases:\n",
    "    pm_df = pd.read_csv(f'dim2_combinations/{case}/beta_pm.csv')\n",
    "    pm_df['n'] = pm_df['n'].astype(int)\n",
    "    for i in range(4):\n",
    "        pm_df[str(i)] = pm_df[str(i)] - betas[i]\n",
    "    for n in range(3):\n",
    "        for coef in range(4):\n",
    "            row = {}\n",
    "            row['prior'] = case\n",
    "            row['coef'] = r'$\\beta_' + str(coef) + '$'\n",
    "            row['n'] = pm_df['n'].iloc[n]\n",
    "            row['bias'] = pm_df[str(coef)].iloc[n]\n",
    "            row['MSE'] = pm_df[str(coef) + '_MSE'].iloc[n]\n",
    "            data.append(row)"
   ]
  },
  {
   "cell_type": "code",
   "execution_count": 4,
   "metadata": {},
   "outputs": [],
   "source": [
    "full_df = pd.DataFrame(data)"
   ]
  },
  {
   "cell_type": "code",
   "execution_count": 5,
   "metadata": {},
   "outputs": [
    {
     "name": "stdout",
     "output_type": "stream",
     "text": [
      "\\begin{tabular}{llrrrrrrrr}\n",
      "\\toprule\n",
      " &  & \\multicolumn{4}{c}{MSE} & \\multicolumn{4}{c}{bias} \\\\\n",
      " & coef & $\\beta_0$ & $\\beta_1$ & $\\beta_2$ & $\\beta_3$ & $\\beta_0$ & $\\beta_1$ & $\\beta_2$ & $\\beta_3$ \\\\\n",
      "prior & n &  &  &  &  &  &  &  &  \\\\\n",
      "\\midrule\n",
      "\\multirow[t]{3}{*}{beta} & 3000 & 3.6e-04 & 5.0e-04 & 9.8e-03 & 9.6e-03 & -2.1e-04 & -2.4e-03 & 2.1e-02 & -2.4e-02 \\\\\n",
      " & 6000 & 1.8e-04 & 2.6e-04 & 4.6e-03 & 4.4e-03 & 2.9e-04 & -6.4e-04 & 9.8e-03 & -1.2e-02 \\\\\n",
      " & 10000 & 1.1e-04 & 1.5e-04 & 3.1e-03 & 3.0e-03 & 3.4e-04 & -1.3e-03 & 5.5e-03 & -7.0e-03 \\\\\n",
      "\\cline{1-10}\n",
      "\\multirow[t]{3}{*}{normal} & 3000 & 1.5e-04 & 8.7e-05 & 1.1e-04 & 1.0e-04 & 4.6e-03 & -3.0e-03 & 1.3e-04 & -7.0e-03 \\\\\n",
      " & 6000 & 7.4e-05 & 4.6e-05 & 6.2e-05 & 5.9e-05 & 3.1e-03 & -1.9e-03 & 2.5e-04 & -5.1e-03 \\\\\n",
      " & 10000 & 4.4e-05 & 2.7e-05 & 3.5e-05 & 3.3e-05 & 2.9e-03 & -1.2e-03 & 2.2e-04 & -3.9e-03 \\\\\n",
      "\\cline{1-10}\n",
      "\\multirow[t]{3}{*}{uniform} & 3000 & 7.2e-04 & 8.0e-04 & 1.6e-02 & 1.5e-02 & -1.4e-03 & -2.7e-03 & 2.5e-02 & -3.0e-02 \\\\\n",
      " & 6000 & 3.1e-04 & 3.8e-04 & 7.7e-03 & 7.6e-03 & 2.7e-04 & -2.4e-03 & 1.4e-02 & -1.8e-02 \\\\\n",
      " & 10000 & 2.0e-04 & 2.3e-04 & 4.3e-03 & 4.2e-03 & -1.2e-03 & -1.1e-03 & 1.4e-02 & -1.6e-02 \\\\\n",
      "\\cline{1-10}\n",
      "\\bottomrule\n",
      "\\end{tabular}\n",
      "\n"
     ]
    }
   ],
   "source": [
    "full_df = pd.pivot_table(full_df, ['bias', 'MSE'],\n",
    "                         index=['prior', 'n'],\n",
    "                         columns=['coef'])\n",
    "\n",
    "print(full_df.to_latex(float_format=\"%.1e\", multicolumn_format='c'))"
   ]
  }
 ],
 "metadata": {
  "kernelspec": {
   "display_name": "env",
   "language": "python",
   "name": "python3"
  },
  "language_info": {
   "codemirror_mode": {
    "name": "ipython",
    "version": 3
   },
   "file_extension": ".py",
   "mimetype": "text/x-python",
   "name": "python",
   "nbconvert_exporter": "python",
   "pygments_lexer": "ipython3",
   "version": "3.12.3"
  }
 },
 "nbformat": 4,
 "nbformat_minor": 2
}
