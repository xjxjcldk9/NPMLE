{
 "cells": [
  {
   "cell_type": "code",
   "execution_count": 1,
   "metadata": {},
   "outputs": [],
   "source": [
    "from scipy.io import loadmat\n",
    "import numpy as np\n",
    "from NPMLE.utils.NPMLE_util import NPMLE_pot\n",
    "from scipy.stats import linregress"
   ]
  },
  {
   "cell_type": "code",
   "execution_count": 2,
   "metadata": {},
   "outputs": [],
   "source": [
    "def OLS_1d(y,X):\n",
    "    return (y*X).mean() / (X**2).mean()"
   ]
  },
  {
   "cell_type": "code",
   "execution_count": 3,
   "metadata": {},
   "outputs": [],
   "source": [
    "rng = np.random.default_rng(23478239)\n",
    "n = 1000 \n",
    "k = 500 \n",
    "\n",
    "# prior用連續的，uniform, normal\n",
    "# n跟m調大\n",
    "\n",
    "\n",
    "mu = 7\n",
    "beta = 5\n",
    "epsilon = 1\n",
    "theta = np.zeros(n)\n",
    "theta[:k] = mu\n",
    "\n",
    "y = theta*beta + rng.normal(scale=epsilon, size=n)"
   ]
  },
  {
   "cell_type": "code",
   "execution_count": 4,
   "metadata": {},
   "outputs": [],
   "source": [
    "class Strategies:\n",
    "    def __init__(self, L, grid, x, y, weight):\n",
    "        self.L = L\n",
    "        self.grid = grid \n",
    "        self.x = x \n",
    "        self.y = y \n",
    "        self.weight = weight \n",
    "        \n",
    "        self.n, self.m = L.shape\n",
    "        \n",
    "    def objective(self):\n",
    "        return  np.log(self.L@self.weight).mean()\n",
    "        \n",
    "    def post_mean(self):\n",
    "        return (self.L@(self.grid*self.weight)) / (self.L@self.weight)    "
   ]
  },
  {
   "cell_type": "markdown",
   "metadata": {},
   "source": [
    "# 重置很多不同的prior"
   ]
  },
  {
   "cell_type": "markdown",
   "metadata": {},
   "source": [
    "## ALM"
   ]
  },
  {
   "cell_type": "code",
   "execution_count": 5,
   "metadata": {},
   "outputs": [],
   "source": [
    "L = loadmat('test_sim1/L.mat')['L']\n",
    "grid = loadmat('test_sim1/grid.mat')['grid']\n",
    "sol = loadmat('test_sim1/sol.mat')['x']\n",
    "obser = loadmat('test_sim1/obser.mat')['obser']"
   ]
  },
  {
   "cell_type": "code",
   "execution_count": 6,
   "metadata": {},
   "outputs": [
    {
     "data": {
      "text/plain": [
       "-2.1089686562818732"
      ]
     },
     "execution_count": 6,
     "metadata": {},
     "output_type": "execute_result"
    }
   ],
   "source": [
    "alm = Strategies(L, grid, obser, y, sol)\n",
    "\n",
    "alm.objective()"
   ]
  },
  {
   "cell_type": "code",
   "execution_count": 14,
   "metadata": {},
   "outputs": [
    {
     "data": {
      "text/plain": [
       "LinregressResult(slope=4.964329319127599, intercept=0.20499401721028931, rvalue=0.9980558358120106, pvalue=0.0, stderr=0.00981320235366527, intercept_stderr=0.048630300053262035)"
      ]
     },
     "execution_count": 14,
     "metadata": {},
     "output_type": "execute_result"
    }
   ],
   "source": [
    "linregress(alm.post_mean().reshape(-1), alm.y)"
   ]
  }
 ],
 "metadata": {
  "kernelspec": {
   "display_name": "myenv",
   "language": "python",
   "name": "python3"
  },
  "language_info": {
   "codemirror_mode": {
    "name": "ipython",
    "version": 3
   },
   "file_extension": ".py",
   "mimetype": "text/x-python",
   "name": "python",
   "nbconvert_exporter": "python",
   "pygments_lexer": "ipython3",
   "version": "3.10.12"
  }
 },
 "nbformat": 4,
 "nbformat_minor": 2
}
