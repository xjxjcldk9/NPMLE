{
 "cells": [
  {
   "cell_type": "code",
   "execution_count": 20,
   "metadata": {},
   "outputs": [],
   "source": [
    "import pandas as pd"
   ]
  },
  {
   "cell_type": "code",
   "execution_count": 21,
   "metadata": {},
   "outputs": [],
   "source": [
    "cases = ['uniform', 'normal', 'beta']"
   ]
  },
  {
   "cell_type": "code",
   "execution_count": 22,
   "metadata": {},
   "outputs": [],
   "source": [
    "moment = pd.read_csv('dim2_combinations/beta/prior.csv')"
   ]
  },
  {
   "cell_type": "code",
   "execution_count": 23,
   "metadata": {},
   "outputs": [],
   "source": [
    "moment.loc[1, 'Unnamed: 0'] = 'sample average'"
   ]
  },
  {
   "cell_type": "code",
   "execution_count": 24,
   "metadata": {},
   "outputs": [
    {
     "data": {
      "text/html": [
       "<div>\n",
       "<style scoped>\n",
       "    .dataframe tbody tr th:only-of-type {\n",
       "        vertical-align: middle;\n",
       "    }\n",
       "\n",
       "    .dataframe tbody tr th {\n",
       "        vertical-align: top;\n",
       "    }\n",
       "\n",
       "    .dataframe thead th {\n",
       "        text-align: right;\n",
       "    }\n",
       "</style>\n",
       "<table border=\"1\" class=\"dataframe\">\n",
       "  <thead>\n",
       "    <tr style=\"text-align: right;\">\n",
       "      <th></th>\n",
       "      <th>Unnamed: 0</th>\n",
       "      <th>theta_1</th>\n",
       "      <th>theta_2</th>\n",
       "      <th>theta_1^2</th>\n",
       "      <th>theta_2^2</th>\n",
       "      <th>theta_1*theta_2</th>\n",
       "    </tr>\n",
       "  </thead>\n",
       "  <tbody>\n",
       "    <tr>\n",
       "      <th>0</th>\n",
       "      <td>estimated</td>\n",
       "      <td>0.497180</td>\n",
       "      <td>0.501396</td>\n",
       "      <td>0.373033</td>\n",
       "      <td>0.376137</td>\n",
       "      <td>0.284400</td>\n",
       "    </tr>\n",
       "    <tr>\n",
       "      <th>1</th>\n",
       "      <td>sample average</td>\n",
       "      <td>0.498179</td>\n",
       "      <td>0.500795</td>\n",
       "      <td>0.373609</td>\n",
       "      <td>0.376150</td>\n",
       "      <td>0.283974</td>\n",
       "    </tr>\n",
       "  </tbody>\n",
       "</table>\n",
       "</div>"
      ],
      "text/plain": [
       "       Unnamed: 0   theta_1   theta_2  theta_1^2  theta_2^2  theta_1*theta_2\n",
       "0       estimated  0.497180  0.501396   0.373033   0.376137         0.284400\n",
       "1  sample average  0.498179  0.500795   0.373609   0.376150         0.283974"
      ]
     },
     "execution_count": 24,
     "metadata": {},
     "output_type": "execute_result"
    }
   ],
   "source": [
    "moment"
   ]
  },
  {
   "cell_type": "code",
   "execution_count": 25,
   "metadata": {},
   "outputs": [],
   "source": [
    "data = []\n",
    "\n",
    "for case in cases:\n",
    "    pm_df = pd.read_csv(f'dim2_combinations/{case}/prior.csv')\n",
    "    pm_df.loc[1, 'Unnamed: 0'] = 'sample average'\n",
    "    for v in ['estimated', 'sample average']:\n",
    "        row = {}\n",
    "        row['prior'] = case\n",
    "        row['case'] = v\n",
    "        row[r'$\\mathbb{E}[\\theta_1]$'] = pm_df[pm_df['Unnamed: 0'] == v]['theta_1'].iloc[0]\n",
    "        row[r'$\\mathbb{E}[\\theta_2]$'] = pm_df[pm_df['Unnamed: 0'] ==\n",
    "                                               v]['theta_2'].iloc[0]\n",
    "        row[r'$\\mathbb{E}[\\theta_1^2]$'] = pm_df[pm_df['Unnamed: 0'] ==\n",
    "                                                 v]['theta_1^2'].iloc[0]\n",
    "        row[r'$\\mathbb{E}[\\theta_2^2]$'] = pm_df[pm_df['Unnamed: 0'] ==\n",
    "                                                 v]['theta_2^2'].iloc[0]\n",
    "        row[r'$\\mathbb{E}[\\theta_1\\theta_2]$'] = pm_df[\n",
    "            pm_df['Unnamed: 0'] == v]['theta_1*theta_2'].iloc[0]\n",
    "\n",
    "        data.append(row)"
   ]
  },
  {
   "cell_type": "code",
   "execution_count": 26,
   "metadata": {},
   "outputs": [
    {
     "name": "stdout",
     "output_type": "stream",
     "text": [
      "\\begin{tabular}{llrrrrr}\n",
      "\\toprule\n",
      " &  & $\\mathbb{E}[\\theta_1]$ & $\\mathbb{E}[\\theta_2]$ & $\\mathbb{E}[\\theta_1^2]$ & $\\mathbb{E}[\\theta_2^2]$ & $\\mathbb{E}[\\theta_1\\theta_2]$ \\\\\n",
      "prior & case &  &  &  &  &  \\\\\n",
      "\\midrule\n",
      "\\multirow[t]{2}{*}{uniform} & estimated & 0.502 & 0.498 & 0.335 & 0.330 & 0.272 \\\\\n",
      " & sample average & 0.501 & 0.498 & 0.334 & 0.332 & 0.272 \\\\\n",
      "\\cline{1-7}\n",
      "\\multirow[t]{2}{*}{normal} & estimated & -0.015 & -0.001 & 0.990 & 0.784 & 0.491 \\\\\n",
      " & sample average & -0.017 & -0.003 & 0.988 & 0.783 & 0.492 \\\\\n",
      "\\cline{1-7}\n",
      "\\multirow[t]{2}{*}{beta} & estimated & 0.497 & 0.501 & 0.373 & 0.376 & 0.284 \\\\\n",
      " & sample average & 0.498 & 0.501 & 0.374 & 0.376 & 0.284 \\\\\n",
      "\\cline{1-7}\n",
      "\\bottomrule\n",
      "\\end{tabular}\n",
      "\n"
     ]
    }
   ],
   "source": [
    "full_df = pd.DataFrame(data)\n",
    "full_df = full_df.set_index(['prior', 'case'])\n",
    "print(full_df.to_latex(float_format=\"%.3f\"))"
   ]
  }
 ],
 "metadata": {
  "kernelspec": {
   "display_name": "env",
   "language": "python",
   "name": "python3"
  },
  "language_info": {
   "codemirror_mode": {
    "name": "ipython",
    "version": 3
   },
   "file_extension": ".py",
   "mimetype": "text/x-python",
   "name": "python",
   "nbconvert_exporter": "python",
   "pygments_lexer": "ipython3",
   "version": "3.12.3"
  }
 },
 "nbformat": 4,
 "nbformat_minor": 2
}
